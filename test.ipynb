{
  "nbformat": 4,
  "nbformat_minor": 0,
  "metadata": {
    "colab": {
      "name": "test.ipynb",
      "provenance": [],
      "collapsed_sections": [],
      "authorship_tag": "ABX9TyP3+M6ZmuqbQ/iM9+YewvSV",
      "include_colab_link": true
    },
    "kernelspec": {
      "name": "python3",
      "display_name": "Python 3"
    },
    "language_info": {
      "name": "python"
    }
  },
  "cells": [
    {
      "cell_type": "markdown",
      "metadata": {
        "id": "view-in-github",
        "colab_type": "text"
      },
      "source": [
        "<a href=\"https://colab.research.google.com/github/ryan9453/0602/blob/main/test.ipynb\" target=\"_parent\"><img src=\"https://colab.research.google.com/assets/colab-badge.svg\" alt=\"Open In Colab\"/></a>"
      ]
    },
    {
      "cell_type": "markdown",
      "metadata": {
        "id": "QpnBJES7mkeZ"
      },
      "source": [
        "# 測試\n",
        "## chapter 1\n",
        "# 文字方塊 支援 markdown 語法\n",
        "$ c = \\frac {1}{a+2} $ \n",
        "# lateX math 語法\n"
      ]
    },
    {
      "cell_type": "code",
      "metadata": {
        "id": "eayE2kbgmExw"
      },
      "source": [
        "a = 1\n",
        "b = 2\n",
        "print(a+b)"
      ],
      "execution_count": null,
      "outputs": []
    }
  ]
}