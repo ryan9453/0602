{
  "nbformat": 4,
  "nbformat_minor": 0,
  "metadata": {
    "colab": {
      "name": "Untitled5.ipynb",
      "provenance": [],
      "authorship_tag": "ABX9TyPTFP/T22zUVgvFrO0m2S2m",
      "include_colab_link": true
    },
    "kernelspec": {
      "name": "python3",
      "display_name": "Python 3"
    },
    "language_info": {
      "name": "python"
    }
  },
  "cells": [
    {
      "cell_type": "markdown",
      "metadata": {
        "id": "view-in-github",
        "colab_type": "text"
      },
      "source": [
        "<a href=\"https://colab.research.google.com/github/ryan9453/0602/blob/main/yolo5_detect.ipynb\" target=\"_parent\"><img src=\"https://colab.research.google.com/assets/colab-badge.svg\" alt=\"Open In Colab\"/></a>"
      ]
    },
    {
      "cell_type": "code",
      "metadata": {
        "id": "Vb9wTOL3Tmcz"
      },
      "source": [
        "!pip3 install -r requirements.txt"
      ],
      "execution_count": null,
      "outputs": []
    },
    {
      "cell_type": "code",
      "metadata": {
        "id": "bB3OaTylnoni"
      },
      "source": [
        "!pip list"
      ],
      "execution_count": null,
      "outputs": []
    },
    {
      "cell_type": "code",
      "metadata": {
        "colab": {
          "base_uri": "https://localhost:8080/"
        },
        "id": "4rR_sCN7rLSc",
        "outputId": "53ba8ee8-61bc-4dc7-bba0-578f69c4d6f5"
      },
      "source": [
        "!python detect.py --weights best.pt --img 416 --conf 0.4 --source 1.jpg --save-txt"
      ],
      "execution_count": 47,
      "outputs": [
        {
          "output_type": "stream",
          "text": [
            "Namespace(agnostic_nms=False, augment=False, classes=None, conf_thres=0.4, device='', exist_ok=False, img_size=416, iou_thres=0.45, name='exp', project='runs/detect', save_conf=False, save_txt=True, source='1.jpg', update=False, view_img=False, weights=['best.pt'])\n",
            "YOLOv5 🚀 2021-7-17 torch 1.9.0+cu102 CPU\n",
            "\n",
            "Fusing layers... \n",
            "/usr/local/lib/python3.7/dist-packages/torch/nn/functional.py:718: UserWarning: Named tensors and all their associated APIs are an experimental feature and subject to change. Please do not use them for anything important until they are released as stable. (Triggered internally at  /pytorch/c10/core/TensorImpl.h:1156.)\n",
            "  return torch.max_pool2d(input, kernel_size, stride, padding, dilation, ceil_mode)\n",
            "Model Summary: 232 layers, 7276185 parameters, 0 gradients\n",
            "image 1/1 /content/1.jpg: 288x416 8 xiaolongbaos, Done. (0.161s)\n",
            "Results saved to runs/detect/exp7\n",
            "1 labels saved to runs/detect/exp7/labels\n",
            "Done. (0.180s)\n"
          ],
          "name": "stdout"
        }
      ]
    },
    {
      "cell_type": "code",
      "metadata": {
        "id": "o6YBmAWRaXuu"
      },
      "source": [
        "import torch\n",
        "device = torch.device('cpu')\n",
        "# PATH = 'best.pt'\n",
        "\n",
        "model = torch.hub.load('ultralytics/yolov5', 'yolov5s', pretrained=False)\n",
        "checkpoint = torch.load('best.pt', map_location='cpu')  # 加载模型文件，pt, pth 文件都可以；\n",
        "if torch.cuda.device_count() > 1:\n",
        "    # 如果有多个GPU，将模型并行化，用DataParallel来操作。这个过程会将key值加一个\"module. ***\"。\n",
        "    model = nn.DataParallel(model) \n",
        "model.load_state_dict(checkpoint) # 接着就可以将模型参数load进模型。\n",
        "\n",
        "\n",
        "# params = model.state_dict()\n",
        "\n",
        "# for k,v in params.items():\n",
        "#     print(k)\n",
        "model.load_state_dict(torch.load(PATH, map_location=device))\n",
        "\n",
        "# model.eval()\n"
      ],
      "execution_count": null,
      "outputs": []
    },
    {
      "cell_type": "code",
      "metadata": {
        "colab": {
          "base_uri": "https://localhost:8080/"
        },
        "id": "V1NlWLA788J9",
        "outputId": "04807715-56ea-4c14-b89f-a70814ff7ae9"
      },
      "source": [
        "model = torch.hub.load('ultralytics/yolov5', 'custom', path='best.pt')\n",
        "# predictions = model('1.jpg')\n",
        "# print(predictions)\n",
        "results = model('2.jpg')\n",
        "labels, cord_thres = results.xyxyn[0][:, -1].numpy(), results.xyxyn[0][:, :-1].numpy()\n",
        "print(labels)\n",
        "print(cord_thres)"
      ],
      "execution_count": 57,
      "outputs": [
        {
          "output_type": "stream",
          "text": [
            "Using cache found in /root/.cache/torch/hub/ultralytics_yolov5_master\n"
          ],
          "name": "stderr"
        },
        {
          "output_type": "stream",
          "text": [
            "\u001b[31m\u001b[1mrequirements:\u001b[0m PyYAML>=5.3.1 not found and is required by YOLOv5, attempting auto-update...\n"
          ],
          "name": "stdout"
        },
        {
          "output_type": "stream",
          "text": [
            "YOLOv5 🚀 2021-7-17 torch 1.9.0+cu102 CPU\n",
            "\n",
            "Fusing layers... \n"
          ],
          "name": "stderr"
        },
        {
          "output_type": "stream",
          "text": [
            "Requirement already satisfied: PyYAML>=5.3.1 in /usr/local/lib/python3.7/dist-packages (5.3.1)\n",
            "\n",
            "\u001b[31m\u001b[1mrequirements:\u001b[0m 1 package updated per /root/.cache/torch/hub/ultralytics_yolov5_master/requirements.txt\n",
            "\u001b[31m\u001b[1mrequirements:\u001b[0m ⚠️ \u001b[1mRestart runtime or rerun command for updates to take effect\u001b[0m\n",
            "\n"
          ],
          "name": "stdout"
        },
        {
          "output_type": "stream",
          "text": [
            "Model Summary: 232 layers, 7276185 parameters, 0 gradients\n",
            "Adding AutoShape... \n"
          ],
          "name": "stderr"
        },
        {
          "output_type": "stream",
          "text": [
            "[         11]\n",
            "[[    0.22284     0.16525     0.82522     0.80899     0.48705]]\n"
          ],
          "name": "stdout"
        }
      ]
    }
  ]
}