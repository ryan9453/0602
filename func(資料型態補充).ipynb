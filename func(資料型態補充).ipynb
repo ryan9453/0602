{
  "nbformat": 4,
  "nbformat_minor": 0,
  "metadata": {
    "colab": {
      "name": "func(資料型態補充).ipynb",
      "provenance": [],
      "authorship_tag": "ABX9TyM0RiKF+bfjfQNy4wRinxP/",
      "include_colab_link": true
    },
    "kernelspec": {
      "name": "python3",
      "display_name": "Python 3"
    },
    "language_info": {
      "name": "python"
    }
  },
  "cells": [
    {
      "cell_type": "markdown",
      "metadata": {
        "id": "view-in-github",
        "colab_type": "text"
      },
      "source": [
        "<a href=\"https://colab.research.google.com/github/ryan9453/0602/blob/main/func(%E8%B3%87%E6%96%99%E5%9E%8B%E6%85%8B%E8%A3%9C%E5%85%85).ipynb\" target=\"_parent\"><img src=\"https://colab.research.google.com/assets/colab-badge.svg\" alt=\"Open In Colab\"/></a>"
      ]
    },
    {
      "cell_type": "code",
      "metadata": {
        "colab": {
          "base_uri": "https://localhost:8080/"
        },
        "id": "r7BpIsIb4vsc",
        "outputId": "d0a36ac0-2bdb-42cd-cab9-249dfc8d9c1d"
      },
      "source": [
        "int(4.5)\n",
        "# python: 所有東西皆為物件 -> 所有東西都有資料型態\n",
        "# 函式: int -> 步驟資料(SOP) (4.5): 執行並代入參數\n",
        "#    dict -> 字典資料   [key]: 操作\n",
        "a = int\n",
        "a(5.5)\n",
        "def test():\n",
        "    return int\n",
        "test()(7.5)\n",
        "# a + b: a.__add__(b)"
      ],
      "execution_count": null,
      "outputs": [
        {
          "output_type": "execute_result",
          "data": {
            "text/plain": [
              "7"
            ]
          },
          "metadata": {
            "tags": []
          },
          "execution_count": 1
        }
      ]
    },
    {
      "cell_type": "code",
      "metadata": {
        "colab": {
          "base_uri": "https://localhost:8080/"
        },
        "id": "C_Ms8vTT6O0_",
        "outputId": "33a352dd-5a62-41bf-a328-37773f2ee763"
      },
      "source": [
        "# class 可以想成設計圖紙\n",
        "# class(類別)=object(物件)的藍圖、設計稿\n",
        "class Person:\n",
        "    def __init__(self, h, w):\n",
        "        self.h = h\n",
        "        self.w = w\n",
        "b = Person\n",
        "p1 = b(175, 75)\n",
        "p1.h"
      ],
      "execution_count": null,
      "outputs": [
        {
          "output_type": "execute_result",
          "data": {
            "text/plain": [
              "175"
            ]
          },
          "metadata": {
            "tags": []
          },
          "execution_count": 12
        }
      ]
    },
    {
      "cell_type": "code",
      "metadata": {
        "colab": {
          "base_uri": "https://localhost:8080/"
        },
        "id": "YVI-HWdK6t1-",
        "outputId": "097a619b-f6f1-4199-f7f9-56e9969e6957"
      },
      "source": [
        "import random\n",
        "print(type(random.randint))\n",
        "print(type(Person))\n",
        "print(type(None))\n",
        "print(type(p1))"
      ],
      "execution_count": null,
      "outputs": [
        {
          "output_type": "stream",
          "text": [
            "<class 'method'>\n",
            "<class 'type'>\n",
            "<class 'NoneType'>\n",
            "<class '__main__.Person'>\n"
          ],
          "name": "stdout"
        }
      ]
    }
  ]
}