{
  "nbformat": 4,
  "nbformat_minor": 0,
  "metadata": {
    "colab": {
      "name": "物件導向(基礎補充).ipynb",
      "provenance": [],
      "authorship_tag": "ABX9TyPjzUJZtkJGzyH558XE/NWi",
      "include_colab_link": true
    },
    "kernelspec": {
      "name": "python3",
      "display_name": "Python 3"
    },
    "language_info": {
      "name": "python"
    }
  },
  "cells": [
    {
      "cell_type": "markdown",
      "metadata": {
        "id": "view-in-github",
        "colab_type": "text"
      },
      "source": [
        "<a href=\"https://colab.research.google.com/github/ryan9453/0602/blob/main/%E7%89%A9%E4%BB%B6%E5%B0%8E%E5%90%91(%E5%9F%BA%E7%A4%8E%E8%A3%9C%E5%85%85).ipynb\" target=\"_parent\"><img src=\"https://colab.research.google.com/assets/colab-badge.svg\" alt=\"Open In Colab\"/></a>"
      ]
    },
    {
      "cell_type": "code",
      "metadata": {
        "colab": {
          "base_uri": "https://localhost:8080/"
        },
        "id": "lpP4p3g_TLDi",
        "outputId": "ee3fd001-4b60-4ab7-d135-a88157274ecf"
      },
      "source": [
        "# class 也可以想成 自訂資料型態\n",
        "# init 那行當作設定所需 參數\n",
        "class Person:\n",
        "    \n",
        "    def __init__(self, h, w):\n",
        "        self.height = h\n",
        "        self.weight = w\n",
        "    \n",
        "    def calculate_bmi(self):\n",
        "        bmi = self.weight / (self.height / 100) ** 2\n",
        "        return bmi\n",
        "\n",
        "    def __str__(self):\n",
        "        return 'bmi:' + str(self.calculate_bmi())\n",
        "\n",
        "p1 = Person(175, 75)\n",
        "p2 = Person(180, 80)\n",
        "\n",
        "print(p1.calculate_bmi())\n",
        "print(p2.calculate_bmi())\n",
        "# 也可以\n",
        "print(Person.calculate_bmi(p1))\n",
        "\n",
        "# print -> str(p1) -> p1.__str__()\n",
        "print(p1)\n",
        "# p1.__eq__(p2)\n",
        "print(p1 == p2)\n"
      ],
      "execution_count": 6,
      "outputs": [
        {
          "output_type": "stream",
          "text": [
            "24.489795918367346\n",
            "24.691358024691358\n",
            "24.489795918367346\n",
            "bmi:24.489795918367346\n"
          ],
          "name": "stdout"
        }
      ]
    }
  ]
}