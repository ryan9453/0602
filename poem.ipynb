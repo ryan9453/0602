{
  "nbformat": 4,
  "nbformat_minor": 0,
  "metadata": {
    "colab": {
      "name": "poem.ipynb",
      "provenance": [],
      "authorship_tag": "ABX9TyPEVKC5AxdcWNPYAzfHdnF/",
      "include_colab_link": true
    },
    "kernelspec": {
      "name": "python3",
      "display_name": "Python 3"
    },
    "language_info": {
      "name": "python"
    }
  },
  "cells": [
    {
      "cell_type": "markdown",
      "metadata": {
        "id": "view-in-github",
        "colab_type": "text"
      },
      "source": [
        "<a href=\"https://colab.research.google.com/github/ryan9453/0602/blob/main/poem.ipynb\" target=\"_parent\"><img src=\"https://colab.research.google.com/assets/colab-badge.svg\" alt=\"Open In Colab\"/></a>"
      ]
    },
    {
      "cell_type": "code",
      "metadata": {
        "colab": {
          "base_uri": "https://localhost:8080/"
        },
        "id": "B1Kx6U-3x5eq",
        "outputId": "02c0150e-485b-4dae-f1cc-cd9767c6909a"
      },
      "source": [
        "from urllib.request import urlretrieve\n",
        "url = 'https://github.com/Elwing-Chou/ml0602/raw/main/poem_train.csv'\n",
        "urlretrieve(url, 'train.csv')\n",
        "url = 'https://github.com/Elwing-Chou/ml0602/raw/main/poem_test.csv'\n",
        "urlretrieve(url, 'test.csv')\n"
      ],
      "execution_count": 13,
      "outputs": [
        {
          "output_type": "execute_result",
          "data": {
            "text/plain": [
              "('test.csv', <http.client.HTTPMessage at 0x7f5cd6869190>)"
            ]
          },
          "metadata": {
            "tags": []
          },
          "execution_count": 13
        }
      ]
    },
    {
      "cell_type": "code",
      "metadata": {
        "id": "hrv3cQQFygeI"
      },
      "source": [
        "import pandas as pd\n",
        "train = pd.read_csv(\"./train.csv\", encoding=\"utf-8\")\n",
        "test = pd.read_csv(\"./test.csv\", encoding=\"utf-8\")"
      ],
      "execution_count": 14,
      "outputs": []
    },
    {
      "cell_type": "code",
      "metadata": {
        "colab": {
          "base_uri": "https://localhost:8080/"
        },
        "id": "p9V7KtCRzYcx",
        "outputId": "34476876-432c-4a1e-d8fc-f1be67e4d112"
      },
      "source": [
        "# 分類: 輸出 0 1 2 3\n",
        "# series.replace(字典)\n",
        "# {'李白':0, '杜甫':1, '白居易':2}\n",
        "# unique/value_counts\n",
        "# u = train['作者'].value_counts series.unique/series.value_counts\n",
        "u = train['作者'].unique()\n",
        "name2index = {n:i for i,n in enumerate(u)}\n",
        "index2name = {i:n for i,n in enumerate(u)}\n",
        "print(name2index)\n",
        "print(index2name)\n",
        "y_train = train['作者'].replace(name2index)\n",
        "y_test = test['作者'].replace(index2name)\n",
        "y_test"
      ],
      "execution_count": 15,
      "outputs": [
        {
          "output_type": "stream",
          "text": [
            "{'李白': 0, '杜甫': 1, '白居易': 2}\n",
            "{0: '李白', 1: '杜甫', 2: '白居易'}\n"
          ],
          "name": "stdout"
        },
        {
          "output_type": "execute_result",
          "data": {
            "text/plain": [
              "0      李白\n",
              "1      李白\n",
              "2      李白\n",
              "3      李白\n",
              "4      李白\n",
              "5      李白\n",
              "6      李白\n",
              "7      李白\n",
              "8      李白\n",
              "9      李白\n",
              "10     杜甫\n",
              "11     杜甫\n",
              "12     杜甫\n",
              "13     杜甫\n",
              "14     杜甫\n",
              "15     杜甫\n",
              "16     杜甫\n",
              "17     杜甫\n",
              "18     杜甫\n",
              "19     杜甫\n",
              "20    白居易\n",
              "21    白居易\n",
              "22    白居易\n",
              "23    白居易\n",
              "24    白居易\n",
              "25    白居易\n",
              "26    白居易\n",
              "27    白居易\n",
              "28    白居易\n",
              "29    白居易\n",
              "Name: 作者, dtype: object"
            ]
          },
          "metadata": {
            "tags": []
          },
          "execution_count": 15
        }
      ]
    }
  ]
}