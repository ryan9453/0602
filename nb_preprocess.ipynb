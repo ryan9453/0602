{
  "nbformat": 4,
  "nbformat_minor": 0,
  "metadata": {
    "colab": {
      "name": "nb_preprocess.ipynb",
      "provenance": [],
      "authorship_tag": "ABX9TyN/tOrMVERBK6suHW3scFRJ",
      "include_colab_link": true
    },
    "kernelspec": {
      "name": "python3",
      "display_name": "Python 3"
    },
    "language_info": {
      "name": "python"
    }
  },
  "cells": [
    {
      "cell_type": "markdown",
      "metadata": {
        "id": "view-in-github",
        "colab_type": "text"
      },
      "source": [
        "<a href=\"https://colab.research.google.com/github/ryan9453/0602/blob/main/nb_preprocess.ipynb\" target=\"_parent\"><img src=\"https://colab.research.google.com/assets/colab-badge.svg\" alt=\"Open In Colab\"/></a>"
      ]
    },
    {
      "cell_type": "code",
      "metadata": {
        "colab": {
          "base_uri": "https://localhost:8080/"
        },
        "id": "H1eCx85oWyfS",
        "outputId": "73c01474-c902-4808-e07c-6c7830183366"
      },
      "source": [
        "!pip install opencc-python-reimplemented"
      ],
      "execution_count": 4,
      "outputs": [
        {
          "output_type": "stream",
          "text": [
            "Requirement already satisfied: opencc-python-reimplemented in /usr/local/lib/python3.7/dist-packages (0.1.6)\n"
          ],
          "name": "stdout"
        }
      ]
    },
    {
      "cell_type": "code",
      "metadata": {
        "id": "ZRxiubDPiNxf"
      },
      "source": [
        "to_convert = \"\"\"训练词向量等一些任务的时候，往往需要一些较大规模的中文语料，而维基百科语料是一个很好的选择。维基百科每段时间都会备份数据，我们可以选择不同时间段的语料来下载使用。​\n",
        "\n",
        "1.下载维基百科语料\n",
        "下面就是维基百科的语料的下载地址：\"\"\""
      ],
      "execution_count": 5,
      "outputs": []
    },
    {
      "cell_type": "code",
      "metadata": {
        "colab": {
          "base_uri": "https://localhost:8080/",
          "height": 53
        },
        "id": "GtAdQOxOXRWE",
        "outputId": "3cf376d6-8cd0-41cd-cb39-f6065715e818"
      },
      "source": [
        "from opencc import OpenCC\n",
        "cc = OpenCC('s2tw')\n",
        "converted = cc.convert(to_convert)\n",
        "converted"
      ],
      "execution_count": 6,
      "outputs": [
        {
          "output_type": "execute_result",
          "data": {
            "application/vnd.google.colaboratory.intrinsic+json": {
              "type": "string"
            },
            "text/plain": [
              "'訓練詞向量等一些任務的時候，往往需要一些較大規模的中文語料，而維基百科語料是一個很好的選擇。維基百科每段時間都會備份數據，我們可以選擇不同時間段的語料來下載使用。\\u200b\\n\\n1.下載維基百科語料\\n下面就是維基百科的語料的下載地址：'"
            ]
          },
          "metadata": {
            "tags": []
          },
          "execution_count": 6
        }
      ]
    },
    {
      "cell_type": "code",
      "metadata": {
        "colab": {
          "base_uri": "https://localhost:8080/",
          "height": 158
        },
        "id": "mvR3L7aaeDIJ",
        "outputId": "c4f10270-cf71-40c3-9fa6-5e39634213a0"
      },
      "source": [
        "with open('./news.txt', 'r',encoding = 'utf-8') as f:\n",
        "    content = f.read()\n",
        "content"
      ],
      "execution_count": 7,
      "outputs": [
        {
          "output_type": "execute_result",
          "data": {
            "application/vnd.google.colaboratory.intrinsic+json": {
              "type": "string"
            },
            "text/plain": [
              "'本土疫情尚未趨緩，行政院7日宣布，全國第三級警戒延長至6月28日，全國各級學校停止到校上課直到暑假，而畢業典禮等相關活動也被迫停辦；彰化有一對父母為了不讓二女兒的幼稚園畢業典禮泡湯，特別手製證書、背板和斜揹帶，慶祝女兒畢業快樂，感動2.3萬名網友。\\n\\n女童媽媽在臉書發文指出，二女兒人生一次的幼稚園畢業典禮泡湯了，爸爸捨不得寶貝女兒失望，因此請親友花了一整個晚上製作四方帽、畢業證書、斜揹帶和背板，並在家裡舉辦生日會暨畢業典禮，「人生中第一個場畢業典禮，誰說在家不能有畢業典禮，親愛的二女孩希望專屬妳的畢業典禮妳能感受到滿滿的愛！」\\n\\n照片中可見，小妹妹身穿小洋裝，戴紙板四方帽，肩上背著斜揹帶，由爸爸親自頒發畢業證書和進行撥穗儀式；小妹妹的大阿姨也在《爆廢公社》發文表示「幼稚園畢業典禮泡湯了，沒關係！爸爸頒獎給你，讓妳一輩子都記得唷，家人的愛是最好的禮物」。\\n\\n照片曝光吸引超過2.3萬名網友朝聖，紛紛回應「滿滿的父愛」、「這個畢業典禮很棒」、「恭喜畢業了，好好珍惜家人，很有心的幫你辦了畢業典禮」、「全台今年唯一一個有幼稚園畢業典禮的小孩」、「這樣的畢業典禮，比學校的畢業典禮更加珍貴，照片一定要珍藏」。'"
            ]
          },
          "metadata": {
            "tags": []
          },
          "execution_count": 7
        }
      ]
    },
    {
      "cell_type": "code",
      "metadata": {
        "colab": {
          "base_uri": "https://localhost:8080/"
        },
        "id": "XiJLRCRjgomH",
        "outputId": "bb067c7a-2221-49d1-ce4b-b2330a81e5df"
      },
      "source": [
        "import jieba.analyse\n",
        "# topK:None (全部列出, 高到低)\n",
        "print(jieba.analyse.extract_tags(content))\n",
        "print(jieba.analyse.extract_tags(content, topK = 5, allowPOS = ['n']))"
      ],
      "execution_count": 10,
      "outputs": [
        {
          "output_type": "stream",
          "text": [
            "['畢業', '典禮', '園畢業', '女兒', '泡湯', '幼稚', '全國', '2.3', '萬名', '網友', '發文', '證書', '滿滿', '照片', '背板', '爸爸', '小妹妹', '四方', '在家', '家人']\n",
            "['畢業', '典禮', '女兒', '網友', '業典']\n"
          ],
          "name": "stdout"
        }
      ]
    },
    {
      "cell_type": "code",
      "metadata": {
        "colab": {
          "base_uri": "https://localhost:8080/"
        },
        "id": "VF7HPRN1oxtE",
        "outputId": "ed0423eb-bf6a-47a7-9c74-723b73a78c37"
      },
      "source": [
        "import jieba\n",
        "from urllib.request import urlretrieve\n",
        "url = 'https://github.com/fxsjy/jieba/raw/master/extra_dict/dict.txt.big'\n",
        "urlretrieve(url, 'dict.txt.big')"
      ],
      "execution_count": 13,
      "outputs": [
        {
          "output_type": "execute_result",
          "data": {
            "text/plain": [
              "('dict.txt.big', <http.client.HTTPMessage at 0x7fcc180cfd90>)"
            ]
          },
          "metadata": {
            "tags": []
          },
          "execution_count": 13
        }
      ]
    },
    {
      "cell_type": "code",
      "metadata": {
        "colab": {
          "base_uri": "https://localhost:8080/"
        },
        "id": "2b9zhhs6pihs",
        "outputId": "84bcb5d4-1d31-49f3-bd8b-ba10251740b9"
      },
      "source": [
        "c = ' '.join(jieba.cut(content))\n",
        "print(c)\n",
        "print('-'*100)\n",
        "# set_dictionary 作用是把括號裡的東西改成預設字典\n",
        "jieba.set_dictionary('dict.txt.big')\n",
        "c = ' '.join(jieba.cut(content))\n",
        "print(c)"
      ],
      "execution_count": 14,
      "outputs": [
        {
          "output_type": "stream",
          "text": [
            "Building prefix dict from /content/dict.txt.big ...\n"
          ],
          "name": "stderr"
        },
        {
          "output_type": "stream",
          "text": [
            "本土 疫情 尚未 趨緩 ， 行政院 7 日 宣布 ， 全國 第三 級 警戒 延長 至 6 月 28 日 ， 全國 各級 學校 停止 到校 上課 直到 暑假 ， 而 畢業 典禮 等 相關 活動 也 被迫 停辦 ； 彰化 有 一 對 父母 為 了 不 讓 二 女兒 的 幼稚 園畢業 典禮 泡湯 ， 特別 手 製 證 書 、 背板 和 斜 揹 帶 ， 慶祝 女兒 畢業 快樂 ， 感動 2.3 萬名 網友 。 \n",
            " \n",
            " 女童 媽媽 在 臉書 發文 指出 ， 二女兒 人生 一次 的 幼稚 園畢業 典禮 泡湯 了 ， 爸爸 捨 不得 寶貝 女兒 失望 ， 因此 請 親友花 了 一整 個 晚上 製 作 四方 帽 、 畢業 證書 、 斜 揹 帶 和 背板 ， 並 在家 裡舉 辦 生日 會 暨 畢業 典禮 ， 「 人生 中 第一 個場 畢業 典禮 ， 誰 說 在家 不能 有 畢業 典禮 ， 親愛的 二 女孩 希望 專屬 妳 的 畢業 典禮 妳 能 感受 到 滿滿 的 愛 ！ 」 \n",
            " \n",
            " 照片 中可見 ， 小妹妹 身穿 小洋 裝 ， 戴紙 板 四方 帽 ， 肩上 背著 斜 揹 帶 ， 由 爸爸 親自 頒發 畢業 證書 和 進行 撥穗 儀式 ； 小妹妹 的 大 阿姨 也 在 《 爆廢 公社 》 發文 表示 「 幼稚 園畢業 典禮 泡湯 了 ， 沒關 係 ！ 爸爸 頒獎給 你 ， 讓 妳 一輩子 都 記得 唷 ， 家人 的 愛是 最好 的 禮物 」 。 \n",
            " \n",
            " 照片 曝光 吸引 超過 2.3 萬名 網友 朝聖 ， 紛紛 回應 「 滿滿 的 父愛 」 、 「 這個 畢業 典禮 很棒 」 、 「 恭喜 畢業 了 ， 好好 珍惜 家人 ， 很 有心 的 幫 你 辦 了 畢業 典禮 」 、 「 全 台 今年 唯一一 個 有 幼稚 園畢業 典禮 的 小孩 」 、 「 這樣 的 畢業 典禮 ， 比學校 的 畢業 典禮 更加 珍貴 ， 照片 一定 要 珍藏 」 。\n",
            "----------------------------------------------------------------------------------------------------\n"
          ],
          "name": "stdout"
        },
        {
          "output_type": "stream",
          "text": [
            "Dumping model to file cache /tmp/jieba.u501edca284da514cb68b53a20324f4e3.cache\n",
            "Loading model cost 1.754 seconds.\n",
            "Prefix dict has been built successfully.\n"
          ],
          "name": "stderr"
        },
        {
          "output_type": "stream",
          "text": [
            "本土 疫情 尚未 趨緩 ， 行政院 7 日 宣布 ， 全國 第三級 警戒 延長 至 6 月 28 日 ， 全國 各級 學校 停止 到校 上課 直到 暑假 ， 而 畢業典禮 等 相關 活動 也 被迫 停辦 ； 彰化 有 一對 父母 為 了 不讓 二女兒 的 幼稚園 畢業典禮 泡湯 ， 特別 手製 證書 、 背板 和 斜 揹帶 ， 慶祝 女兒 畢業 快樂 ， 感動 2.3 萬名 網友 。 \n",
            " \n",
            " 女童 媽媽 在 臉書 發文 指出 ， 二女兒 人生 一次 的 幼稚園 畢業典禮 泡湯 了 ， 爸爸 捨不得 寶貝女兒 失望 ， 因此 請 親友 花 了 一 整個 晚上 製作 四方 帽 、 畢業證書 、 斜 揹帶 和 背板 ， 並 在家 裡 舉辦 生日會 暨 畢業典禮 ， 「 人生 中 第一個 場 畢業典禮 ， 誰 說 在家 不能 有 畢業典禮 ， 親愛 的 二 女孩 希望 專屬 妳 的 畢業典禮 妳 能 感受 到 滿滿的 愛 ！ 」 \n",
            " \n",
            " 照片 中 可見 ， 小妹妹 身穿 小 洋裝 ， 戴 紙板 四方 帽 ， 肩上 背著 斜 揹帶 ， 由 爸爸 親自 頒發 畢業證書 和 進行 撥穗 儀式 ； 小妹妹 的 大 阿姨 也 在 《 爆廢 公社 》 發文 表示 「 幼稚園 畢業典禮 泡湯 了 ， 沒關係 ！ 爸爸 頒獎 給你 ， 讓 妳 一輩子 都 記得 唷 ， 家人 的 愛是 最好 的 禮物 」 。 \n",
            " \n",
            " 照片 曝光 吸引 超過 2.3 萬名 網友 朝聖 ， 紛紛 回應 「 滿滿的 父愛 」 、 「 這個 畢業典禮 很棒 」 、 「 恭喜 畢業 了 ， 好好 珍惜 家人 ， 很 有心 的 幫 你 辦 了 畢業典禮 」 、 「 全 台 今年 唯一 一個 有 幼稚園 畢業典禮 的 小孩 」 、 「 這樣 的 畢業典禮 ， 比 學校 的 畢業典禮 更加 珍貴 ， 照片 一定 要 珍藏 」 。\n"
          ],
          "name": "stdout"
        }
      ]
    },
    {
      "cell_type": "code",
      "metadata": {
        "colab": {
          "base_uri": "https://localhost:8080/"
        },
        "id": "msskgFjeq--R",
        "outputId": "ab481e01-993c-4c3f-b3d2-27d89059b183"
      },
      "source": [
        "# load_userdict 的作用是 括號裡當作擴充字典(不影響預設字典)\n",
        "jieba.load_userdict('mydict.txt')\n",
        "c = ' '.join(jieba.cut(content))\n",
        "print(c)"
      ],
      "execution_count": 15,
      "outputs": [
        {
          "output_type": "stream",
          "text": [
            "本土 疫情 尚未 趨緩 ， 行政院 7 日 宣布 ， 全國 第三級警戒 延長 至 6 月 28 日 ， 全國 各級 學校 停止 到校 上課 直到 暑假 ， 而 畢業典禮 等 相關 活動 也 被迫 停辦 ； 彰化 有 一對 父母 為 了 不讓 二女兒 的 幼稚園 畢業典禮 泡湯 ， 特別 手製 證書 、 背板 和 斜揹帶 ， 慶祝 女兒 畢業 快樂 ， 感動 2.3 萬名 網友 。 \n",
            " \n",
            " 女童 媽媽 在 臉書 發文 指出 ， 二女兒 人生 一次 的 幼稚園 畢業典禮 泡湯 了 ， 爸爸 捨不得 寶貝女兒 失望 ， 因此 請 親友 花 了 一 整個 晚上 製作 四方帽 、 畢業證書 、 斜揹帶 和 背板 ， 並 在家 裡 舉辦 生日會 暨 畢業典禮 ， 「 人生 中 第一個 場 畢業典禮 ， 誰 說 在家 不能 有 畢業典禮 ， 親愛 的 二 女孩 希望 專屬 妳 的 畢業典禮 妳 能 感受 到 滿滿的 愛 ！ 」 \n",
            " \n",
            " 照片 中 可見 ， 小妹妹 身穿 小 洋裝 ， 戴 紙板 四方帽 ， 肩上 背著 斜揹帶 ， 由 爸爸 親自 頒發 畢業證書 和 進行 撥穗 儀式 ； 小妹妹 的 大 阿姨 也 在 《 爆廢公社 》 發文 表示 「 幼稚園 畢業典禮 泡湯 了 ， 沒關係 ！ 爸爸 頒獎 給你 ， 讓 妳 一輩子 都 記得 唷 ， 家人 的 愛是 最好 的 禮物 」 。 \n",
            " \n",
            " 照片 曝光 吸引 超過 2.3 萬名 網友 朝聖 ， 紛紛 回應 「 滿滿的 父愛 」 、 「 這個 畢業典禮 很棒 」 、 「 恭喜 畢業 了 ， 好好 珍惜 家人 ， 很 有心 的 幫 你 辦 了 畢業典禮 」 、 「 全台 今年 唯一 一個 有 幼稚園 畢業典禮 的 小孩 」 、 「 這樣 的 畢業典禮 ， 比 學校 的 畢業典禮 更加 珍貴 ， 照片 一定 要 珍藏 」 。\n"
          ],
          "name": "stdout"
        }
      ]
    }
  ]
}